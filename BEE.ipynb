{
 "cells": [
  {
   "cell_type": "markdown",
   "id": "09aec258-ea68-45ce-89b3-24c3d06053d1",
   "metadata": {},
   "source": [
    "Ques 1 "
   ]
  },
  {
   "cell_type": "code",
   "execution_count": 15,
   "id": "ccaf3384-c841-4306-ab1a-2c665f143efc",
   "metadata": {},
   "outputs": [],
   "source": [
    "def emf(P,Z,PHI,N,A):\n",
    "    return (P*Z*PHI*N)/(60*A)"
   ]
  },
  {
   "cell_type": "code",
   "execution_count": 1,
   "id": "1b673c3b-7ea0-4525-8c24-a8c80ee81a47",
   "metadata": {},
   "outputs": [
    {
     "name": "stdin",
     "output_type": "stream",
     "text": [
      "Enter current: 400\n",
      "Enter Voltage: 240\n",
      "Enter Armature resisitance: 0.04\n",
      "Enter Shunt Resistance: 40\n"
     ]
    },
    {
     "name": "stdout",
     "output_type": "stream",
     "text": [
      "256.24\n"
     ]
    }
   ],
   "source": [
    "I = int(input(\"Enter current:\"))\n",
    "V = int(input(\"Enter Voltage:\"))\n",
    "ArmRes = float(input(\"Enter Armature resisitance:\"))\n",
    "ShuntRes = float(input(\"Enter Shunt Resistance:\"))\n",
    "print(V + (I + (V/ShuntRes))*ArmRes)"
   ]
  },
  {
   "cell_type": "markdown",
   "id": "af9a8b2a-a4c7-4f58-a165-46ef3d441f06",
   "metadata": {},
   "source": [
    "Ques 2"
   ]
  },
  {
   "cell_type": "code",
   "execution_count": 2,
   "id": "09bf61fa-9220-4384-95da-9c19059af731",
   "metadata": {},
   "outputs": [
    {
     "name": "stdin",
     "output_type": "stream",
     "text": [
      "Enter pole 4\n",
      "Enter Armature resisitance: 0.6\n"
     ]
    },
    {
     "name": "stdout",
     "output_type": "stream",
     "text": [
      "2.4\n"
     ]
    }
   ],
   "source": [
    "n = int(input(\"Enter pole\"))\n",
    "ArmRes = float(input(\"Enter Armature resisitance:\"))\n",
    "print((n/2)**2 * ArmRes)"
   ]
  },
  {
   "cell_type": "markdown",
   "id": "f095141a-0d06-49df-ae3f-814933273788",
   "metadata": {},
   "source": [
    "Ques 3"
   ]
  },
  {
   "cell_type": "code",
   "execution_count": 7,
   "id": "0eb9be75-83b3-41d6-8f63-68296ed104f5",
   "metadata": {},
   "outputs": [
    {
     "name": "stdin",
     "output_type": "stream",
     "text": [
      "Enter pole 8\n",
      "number of armature conductor 20\n",
      "flux per pole(mWb) 26\n",
      "rpm 860\n"
     ]
    },
    {
     "name": "stdout",
     "output_type": "stream",
     "text": [
      "7.453333333333333\n"
     ]
    }
   ],
   "source": [
    "n = int(input(\"Enter pole\"))\n",
    "z = int(input(\"number of armature conductor\"))\n",
    "phi = float(input(\"flux per pole(mWb)\"))\n",
    "A = 8 #lap\n",
    "N = int(input(\"rpm\"))\n",
    "print(emf(n,z,phi/1000,N,A))"
   ]
  },
  {
   "cell_type": "markdown",
   "id": "2d7fb28f-0536-46f6-b44c-d22e2a913beb",
   "metadata": {},
   "source": [
    "Ques 4"
   ]
  },
  {
   "cell_type": "code",
   "execution_count": 1,
   "id": "edbf5398-3c80-4eec-8a44-9fe00cc86ce3",
   "metadata": {},
   "outputs": [
    {
     "name": "stdin",
     "output_type": "stream",
     "text": [
      "Enter rpm speed: 2\n",
      "Enter final rpm speed 2\n",
      "Enter voltage 2\n",
      "Enter current 2\n",
      "Enter armature resistance 2\n"
     ]
    },
    {
     "name": "stdout",
     "output_type": "stream",
     "text": [
      "2.0\n"
     ]
    }
   ],
   "source": [
    "n_1 = int(input(\"Enter rpm speed:\"))  \n",
    "n_2 = int(input(\"Enter final rpm speed\"))  \n",
    "v_1 = int(input(\"Enter voltage\"))  \n",
    "i_1 = int(input(\"Enter current\"))  \n",
    "r_a = float(input(\"Enter armature resistance\"))  \n",
    "\n",
    "e_1 = v_1 + i_1 * r_a  \n",
    "r_l = v_1 / i_1  \n",
    "e_2 = (n_2 / n_1) * e_1  \n",
    "i_2 = e_2 / (r_l + r_a)  \n",
    "\n",
    "print(i_2)\n"
   ]
  },
  {
   "cell_type": "markdown",
   "id": "d572d670-7d7b-4975-bc78-da603b7e34d3",
   "metadata": {},
   "source": [
    "Ques 5"
   ]
  },
  {
   "cell_type": "code",
   "execution_count": 4,
   "id": "b7610a39-d648-40c4-a1ec-3345eed73972",
   "metadata": {},
   "outputs": [
    {
     "name": "stdin",
     "output_type": "stream",
     "text": [
      "Enter voltage:  33\n",
      "Enter no-load line current:  33\n",
      "Enter armature resistance:  333\n",
      "Enter field resistance:  333\n",
      "Enter load current:  333\n"
     ]
    },
    {
     "name": "stdout",
     "output_type": "stream",
     "text": [
      "0.030024890412838554\n"
     ]
    }
   ],
   "source": [
    "v = float(input(\"Enter voltage: \"))\n",
    "i_nl = float(input(\"Enter no-load line current: \"))\n",
    "r_arm = float(input(\"Enter armature resistance: \"))  \n",
    "r_field = float(input(\"Enter field resistance: \"))    \n",
    "i_ld = float(input(\"Enter load current: \"))    \n",
    "\n",
    "i_fld = v / r_field  \n",
    "i_a_nl = i_nl - i_fld  \n",
    "p_in_nl = v * i_nl  \n",
    "p_fld = v * i_fld  \n",
    "p_cu_nl = i_a_nl**2 * r_arm  \n",
    "p_mech = p_in_nl - (p_fld + p_cu_nl)  \n",
    "p_out = v * i_ld  \n",
    "i_a_ld = i_ld + i_fld  \n",
    "p_cu_ld = i_a_ld**2 * r_arm  \n",
    "p_loss = p_fld + p_cu_ld + p_mech  \n",
    "p_in = p_out + p_loss  \n",
    "eff = p_out / p_in  \n",
    "\n",
    "print(eff * 100)"
   ]
  },
  {
   "cell_type": "markdown",
   "id": "35253e8b-eca6-4ac9-95d7-6cacad78358b",
   "metadata": {},
   "source": [
    "Ques 6"
   ]
  },
  {
   "cell_type": "code",
   "execution_count": 6,
   "id": "85eb673f-6d53-4f00-8b76-ed103f39711d",
   "metadata": {},
   "outputs": [
    {
     "name": "stdin",
     "output_type": "stream",
     "text": [
      "Enter load current:  103\n",
      "Enter terminal voltage:  220\n",
      "Enter armature resistance:  0.074\n",
      "Enter series resistance:  0.069\n",
      "Enter shunt resistance:  60\n",
      "Enter voltage drop per brush:  1\n"
     ]
    },
    {
     "name": "stdout",
     "output_type": "stream",
     "text": [
      "237.00033333333334\n"
     ]
    }
   ],
   "source": [
    "i_ld = float(input(\"Enter load current: \"))  \n",
    "v_t = float(input(\"Enter terminal voltage: \"))\n",
    "r_ar = float(input(\"Enter armature resistance: \"))\n",
    "r_sr = float(input(\"Enter series resistance: \"))\n",
    "r_sh = float(input(\"Enter shunt resistance: \"))  \n",
    "v_b = float(input(\"Enter voltage drop per brush: \"))  \n",
    "def sixseven(i_ld,v_t,r_ar,r_sr,r_sh,v_b):\n",
    "    i_sh = v_t / r_sh  \n",
    "    i_sr = i_ld  \n",
    "    i_ar = i_ld + i_sh  \n",
    "    v_sr = i_sr * r_sr  \n",
    "    v_ar = i_ar * r_ar  \n",
    "    v_drop = 2 * v_b  \n",
    "    e_gen = v_t + v_sr + v_ar + v_drop  \n",
    "    return e_gen\n",
    "print(sixseven(i_ld,v_t,r_ar,r_sr,r_sh,v_b))\n"
   ]
  },
  {
   "cell_type": "markdown",
   "id": "f5913f96-b69b-43a3-81a7-dd9dc112965d",
   "metadata": {},
   "source": [
    "Ques 7"
   ]
  },
  {
   "cell_type": "code",
   "execution_count": 7,
   "id": "539c5a63-9fd2-4719-9d8f-9bed242e600c",
   "metadata": {},
   "outputs": [
    {
     "name": "stdin",
     "output_type": "stream",
     "text": [
      "Enter load current:  370\n",
      "Enter terminal voltage:  220\n",
      "Enter armature resistance:  0.06\n",
      "Enter series resistance:  0.03\n",
      "Enter shunt resistance:  60\n",
      "Enter voltage drop per brush:  1\n"
     ]
    },
    {
     "name": "stdout",
     "output_type": "stream",
     "text": [
      "255.51999999999998\n"
     ]
    }
   ],
   "source": [
    "i_ld = float(input(\"Enter load current: \"))  \n",
    "v_t = float(input(\"Enter terminal voltage: \"))\n",
    "r_ar = float(input(\"Enter armature resistance: \"))\n",
    "r_sr = float(input(\"Enter series resistance: \"))\n",
    "r_sh = float(input(\"Enter shunt resistance: \"))  \n",
    "v_b = float(input(\"Enter voltage drop per brush: \"))  \n",
    "print(sixseven(i_ld,v_t,r_ar,r_sr,r_sh,v_b))"
   ]
  },
  {
   "cell_type": "markdown",
   "id": "78c785d5-74b8-45ca-a4e1-12c9e6645d1a",
   "metadata": {},
   "source": [
    "Ques 8"
   ]
  },
  {
   "cell_type": "code",
   "execution_count": 9,
   "id": "90920bdf-4369-4c72-8c73-1a83413ecac6",
   "metadata": {},
   "outputs": [
    {
     "name": "stdin",
     "output_type": "stream",
     "text": [
      "Enter initial EMF:  230\n",
      "Enter initial flux (in mWb):  10\n",
      "Enter initial speed (in rpm):  1080\n",
      "Enter final speed (in rpm):  740\n",
      "Enter final flux (in mWb):  24\n"
     ]
    },
    {
     "name": "stdout",
     "output_type": "stream",
     "text": [
      "378.2222222222223\n"
     ]
    }
   ],
   "source": [
    "e_1 = float(input(\"Enter initial EMF: \"))  \n",
    "f_1 = float(input(\"Enter initial flux (in mWb): \"))  \n",
    "n_1 = float(input(\"Enter initial speed (in rpm): \"))\n",
    "n_2 = float(input(\"Enter final speed (in rpm): \"))   \n",
    "f_2 = float(input(\"Enter final flux (in mWb): \"))     \n",
    "print(e_1 * ((f_2 / f_1) * (n_2 / n_1)))"
   ]
  },
  {
   "cell_type": "markdown",
   "id": "80a61613-96d9-4405-9baa-cbe1f3bd5ec2",
   "metadata": {},
   "source": [
    "Ques 9"
   ]
  },
  {
   "cell_type": "code",
   "execution_count": 13,
   "id": "f60ceb97-997a-42c4-92d7-51c66a6b829e",
   "metadata": {},
   "outputs": [
    {
     "name": "stdin",
     "output_type": "stream",
     "text": [
      "Enter number of poles:  8\n",
      "Enter number of parallel paths:  2\n",
      "Enter number of slots:  30\n",
      "Enter conductors per slot:  35\n",
      "Enter flux per pole (in mWb):  16\n",
      "Enter speed in rpm:  860\n"
     ]
    },
    {
     "name": "stdout",
     "output_type": "stream",
     "text": [
      "963.2\n"
     ]
    }
   ],
   "source": [
    "p = int(input(\"Enter number of poles: \"))  \n",
    "a = int(input(\"Enter number of parallel paths: \"))  \n",
    "s = int(input(\"Enter number of slots: \"))  \n",
    "c = int(input(\"Enter conductors per slot: \"))  \n",
    "f = float(input(\"Enter flux per pole (in mWb): \"))  \n",
    "n = float(input(\"Enter speed in rpm: \"))\n",
    "print(emf(p,s*c,f/1000,n,a))"
   ]
  },
  {
   "cell_type": "code",
   "execution_count": null,
   "id": "225b9608-82fe-448d-a987-69da089f0924",
   "metadata": {},
   "outputs": [],
   "source": []
  }
 ],
 "metadata": {
  "kernelspec": {
   "display_name": "Python 3 (ipykernel)",
   "language": "python",
   "name": "python3"
  },
  "language_info": {
   "codemirror_mode": {
    "name": "ipython",
    "version": 3
   },
   "file_extension": ".py",
   "mimetype": "text/x-python",
   "name": "python",
   "nbconvert_exporter": "python",
   "pygments_lexer": "ipython3",
   "version": "3.11.4"
  }
 },
 "nbformat": 4,
 "nbformat_minor": 5
}
