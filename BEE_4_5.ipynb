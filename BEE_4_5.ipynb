{
 "cells": [
  {
   "cell_type": "markdown",
   "id": "beff6bce-8329-4923-9967-b6cfb8a20702",
   "metadata": {},
   "source": [
    "1) A 3-phase, 200 V, 45 Hz, 8 pole induction motor runs\n",
    "at 634 rpm at full load. Calculate the full load slip of\n",
    "the motor."
   ]
  },
  {
   "cell_type": "code",
   "execution_count": 1,
   "id": "440cc343-c245-4cc9-9917-aca627be463b",
   "metadata": {},
   "outputs": [
    {
     "name": "stdout",
     "output_type": "stream",
     "text": [
      "Rotor speed 634\n",
      "Frequency 45\n",
      "poles 8\n"
     ]
    },
    {
     "name": "stdout",
     "output_type": "stream",
     "text": [
      "0.06074074074074074\n"
     ]
    }
   ],
   "source": [
    "Nr = int(input(\"Rotor speed\"))\n",
    "f = int(input(\"Frequency\"))\n",
    "p = int(input(\"poles\"))\n",
    "Ns = (120*f)/p\n",
    "S = (Ns-Nr)/Ns\n",
    "print(S)"
   ]
  },
  {
   "cell_type": "markdown",
   "id": "d09c3c9a-58fc-4477-a7c2-2c388414c7a6",
   "metadata": {},
   "source": [
    "2) A 3-phase, 210 V, 45 Hz, 8 pole induction motor has a\n",
    "full load slip of 0.06. Calculate the rotor speed of the\n",
    "motor in rpm."
   ]
  },
  {
   "cell_type": "code",
   "execution_count": 3,
   "id": "c051f2e4-05bc-4c6e-833e-26e962f75c14",
   "metadata": {},
   "outputs": [
    {
     "name": "stdout",
     "output_type": "stream",
     "text": [
      "frequency 45\n",
      "poles 8\n",
      "slip 0.06\n"
     ]
    },
    {
     "name": "stdout",
     "output_type": "stream",
     "text": [
      "634.5\n"
     ]
    }
   ],
   "source": [
    "f = int(input(\"frequency\"))\n",
    "p = int(input(\"poles\"))\n",
    "S = float(input(\"slip\"))\n",
    "Ns = (120*f)/p\n",
    "Nr = Ns * (1-S)\n",
    "print(Nr)"
   ]
  },
  {
   "cell_type": "markdown",
   "id": "5c8d0688-8858-461f-b875-d42476ce2013",
   "metadata": {},
   "source": [
    "3) A 3-phase, 240 kW, 60 Hz, 4 Pole induction motor has\n",
    "a rotor impedance (0.026 + j0.06) ohm at standstill.\n",
    "Calculate the rotor resistance in Ω to be added to get\n",
    "maximum starting torque."
   ]
  },
  {
   "cell_type": "code",
   "execution_count": 4,
   "id": "40c16aab-05c8-4eb7-9589-a5d00f3947a5",
   "metadata": {},
   "outputs": [
    {
     "name": "stdout",
     "output_type": "stream",
     "text": [
      "Rotor resistance(a+bj) = a 0.026\n",
      "Rotor reactance(a+bj) = b 0.06\n"
     ]
    },
    {
     "name": "stdout",
     "output_type": "stream",
     "text": [
      "0.034\n"
     ]
    }
   ],
   "source": [
    "R2 = float(input(\"Rotor resistance(a+bj) = a\"))\n",
    "X2 = float(input(\"Rotor reactance(a+bj) = b\"))\n",
    "Radd = X2-R2\n",
    "print(Radd)"
   ]
  },
  {
   "cell_type": "markdown",
   "id": "9a3fde55-dc76-4836-a30c-aa9ccdafba88",
   "metadata": {},
   "source": [
    "4) A 3-phase, 210 V, 45 Hz induction motor runs has a\n",
    "synchronous speed of 900.0 rpm. Calculate number of\n",
    "poles of the motor."
   ]
  },
  {
   "cell_type": "code",
   "execution_count": 5,
   "id": "13fb645b-3bce-4546-ad69-37df6fec8f04",
   "metadata": {},
   "outputs": [
    {
     "name": "stdout",
     "output_type": "stream",
     "text": [
      "frequency 45\n",
      "Synchronous speed 900\n"
     ]
    },
    {
     "name": "stdout",
     "output_type": "stream",
     "text": [
      "6\n"
     ]
    }
   ],
   "source": [
    "f = int(input(\"frequency\"))\n",
    "Ns = int(input(\"Synchronous speed\"))\n",
    "\n",
    "P = int((120*f)/Ns)\n",
    "print(P)"
   ]
  },
  {
   "cell_type": "markdown",
   "id": "9491ad93-7d73-4760-9eca-cbe1dcc06953",
   "metadata": {},
   "source": [
    "5) A 746 kW, 3 phase, 40 Hz, 6 pole induction motor has\n",
    "rotor resistance and reactance at stand still of 0.07 Ω\n",
    "and 0.33 Ω per phase. The full load torque is obtained\n",
    "at 752.0. Find the ratio of maximum torque to full\n",
    "load torque."
   ]
  },
  {
   "cell_type": "code",
   "execution_count": 6,
   "id": "e9c9f5c1-5cd4-4542-a504-a2ed46d4f712",
   "metadata": {},
   "outputs": [
    {
     "name": "stdout",
     "output_type": "stream",
     "text": [
      "frequency 40\n",
      "poles 6\n",
      "Rotor speed 752.0\n",
      "Rotor resistance(a+bj) = a 0.07\n",
      "Rotor reactance(a+bj) = b 0.33\n"
     ]
    },
    {
     "name": "stdout",
     "output_type": "stream",
     "text": [
      "1.9091053391053392\n"
     ]
    }
   ],
   "source": [
    "f = int(input(\"frequency\"))\n",
    "p = int(input(\"poles\"))\n",
    "Nr = float(input(\"Rotor speed\"))\n",
    "R2 = float(input(\"Rotor resistance(a+bj) = a\"))\n",
    "X2 = float(input(\"Rotor reactance(a+bj) = b\"))\n",
    "\n",
    "Ns = (120*f)/p\n",
    "S_full = (Ns-Nr)/Ns\n",
    "S_max = R2/X2\n",
    "ratio = (S_max**2 + S_full**2)/(2*S_max*S_full)\n",
    "print(ratio)"
   ]
  },
  {
   "cell_type": "markdown",
   "id": "9ac248d2-52f5-4a7b-8ad5-96f5868773f7",
   "metadata": {},
   "source": [
    "6) A 3-phase, 8 pole, 230V, 50 Hz induction motor has a\n",
    "full load slip of 11 %. Calculate the frequency of emf\n",
    "induced in the rotor at full load in Hz."
   ]
  },
  {
   "cell_type": "code",
   "execution_count": 7,
   "id": "fcec4cc2-bbdc-46ba-85ef-9bdec1395263",
   "metadata": {},
   "outputs": [
    {
     "name": "stdout",
     "output_type": "stream",
     "text": [
      "frequency 50\n",
      "slip(in%) 11\n"
     ]
    },
    {
     "name": "stdout",
     "output_type": "stream",
     "text": [
      "5.5\n"
     ]
    }
   ],
   "source": [
    "f = int(input(\"frequency\"))\n",
    "S = int(input(\"slip(in%)\"))\n",
    "\n",
    "fr = (S/100)*f\n",
    "print(fr)"
   ]
  },
  {
   "cell_type": "markdown",
   "id": "d47a4fe7-1ce8-4c17-addf-8ebb078918e3",
   "metadata": {},
   "source": [
    "7) A 3-phase induction motor having a 4pole, 45 Hz sup-\n",
    "ply. The rotor resistance and standstill reactance are\n",
    "0.07 ohm and 0.31 ohm per phase. The speed of the\n",
    "rotor at full load is 1269 rpm. Find the ratio of the\n",
    "starting torque to the full load torque."
   ]
  },
  {
   "cell_type": "code",
   "execution_count": 8,
   "id": "9359d5cf-d923-4f64-8548-cee3a05877c4",
   "metadata": {},
   "outputs": [
    {
     "name": "stdout",
     "output_type": "stream",
     "text": [
      "frequency 45\n",
      "poles 4\n",
      "rotor speed at full load 1269\n",
      "Rotor resistance 0.07\n",
      "standstill reactance 0.31\n"
     ]
    },
    {
     "name": "stdout",
     "output_type": "stream",
     "text": [
      "0.8656699669966997\n"
     ]
    }
   ],
   "source": [
    "f = int(input(\"frequency\"))\n",
    "p = int(input(\"poles\"))\n",
    "Nr = int(input(\"rotor speed at full load\"))\n",
    "R2 = float(input(\"Rotor resistance\"))\n",
    "X2 = float(input(\"standstill reactance\"))\n",
    "Ns = (120*f)/p\n",
    "S = (Ns-Nr)/Ns\n",
    "ratio = (R2**2 + (S*X2)**2)/(S*(R2**2+X2**2))\n",
    "print(ratio)"
   ]
  },
  {
   "cell_type": "markdown",
   "id": "e202f76d-4158-4a65-aa57-b56d7b49d986",
   "metadata": {},
   "source": [
    "8) A 3 φ induction motor is wound for 6 poles and is sup-\n",
    "plied from 60 Hz system. Calculate the synchronous\n",
    "speed in rpm."
   ]
  },
  {
   "cell_type": "code",
   "execution_count": 9,
   "id": "867b5a27-6f4b-4b96-936b-f84121d802e6",
   "metadata": {},
   "outputs": [
    {
     "name": "stdout",
     "output_type": "stream",
     "text": [
      "frequency 60\n",
      "poles 6\n"
     ]
    },
    {
     "name": "stdout",
     "output_type": "stream",
     "text": [
      "1200.0\n"
     ]
    }
   ],
   "source": [
    "f = int(input(\"frequency\"))\n",
    "P = int(input(\"poles\"))\n",
    "Ns = (120*f)/P\n",
    "print(Ns)"
   ]
  },
  {
   "cell_type": "markdown",
   "id": "d3e006fd-c255-400b-8d3e-bdf844541d3d",
   "metadata": {},
   "source": [
    "9) In a 3-phase, 65 Hz, 6 Pole induction motor, the rotor\n",
    "electromotive force is observed to make 2.60 complete\n",
    "alterations per second. Find the ratio of rotor copper\n",
    "loss to the mechanical power developed in the rotor.\n",
    "Calculate upto 4 decimal places."
   ]
  },
  {
   "cell_type": "code",
   "execution_count": 10,
   "id": "f5a479e8-5a22-4068-92bf-270e75d21147",
   "metadata": {},
   "outputs": [
    {
     "name": "stdout",
     "output_type": "stream",
     "text": [
      "frequency 65\n",
      "rotor frequency 2.6\n"
     ]
    },
    {
     "name": "stdout",
     "output_type": "stream",
     "text": [
      "0.04166666666666667\n"
     ]
    }
   ],
   "source": [
    "f = int(input(\"frequency\"))\n",
    "fr = float(input(\"rotor frequency\"))\n",
    "S = fr/f\n",
    "ratio = S/(1-S)\n",
    "print(ratio)"
   ]
  },
  {
   "cell_type": "markdown",
   "id": "895e6510-5399-4e65-a951-b42e0b40a2e7",
   "metadata": {},
   "source": [
    "10) The power input to the rotor of a 3-phase, 50 Hz, 4 pole\n",
    "induction motor is 14.0 kW, the rotor copper losses are\n",
    "140.0 W per phase. Calculate the speed of rotor in\n",
    "rpm, ignoring the mechanical losses."
   ]
  },
  {
   "cell_type": "code",
   "execution_count": 14,
   "id": "fd24616d-758e-45e0-a3be-d5facb63e6d6",
   "metadata": {},
   "outputs": [
    {
     "name": "stdout",
     "output_type": "stream",
     "text": [
      "frequency 50\n",
      "poles 4\n",
      "power input to rotor 14\n",
      "Rotor copper losses 140\n"
     ]
    },
    {
     "name": "stdout",
     "output_type": "stream",
     "text": [
      "1455.0\n"
     ]
    }
   ],
   "source": [
    "f = int(input(\"frequency\"))\n",
    "P = int(input(\"poles\"))\n",
    "power = float(input(\"power input to rotor\"))\n",
    "P_perphase = int(input(\"Rotor copper losses\"))\n",
    "P_perphase = P_perphase/1000\n",
    "Pcu = 3*P_perphase\n",
    "#Pm = power-Pcu\n",
    "S = Pcu/power\n",
    "Ns = (120*f)/P\n",
    "Nr = Ns*(1-S)\n",
    "print(Nr)"
   ]
  },
  {
   "cell_type": "markdown",
   "id": "20ba5e51-ff81-4ecb-bbd2-4bd64c86f9d8",
   "metadata": {},
   "source": [
    "TRANSFORMERS\\\n",
    "11) A single-phase transformer has the maximum efficiency\n",
    "of 98%. The core losses are 240 W and the equiva-\n",
    "lent winding resistance as seen from the primary side\n",
    "is 0.5 Ω. The rated current on the primary side is 35 A.\n",
    "At what percentage of the rated input current does the\n",
    "maximum efficiency occur?"
   ]
  },
  {
   "cell_type": "code",
   "execution_count": 1,
   "id": "488ef8be-27fa-4e51-8a0d-9e810b85f75b",
   "metadata": {},
   "outputs": [
    {
     "name": "stdout",
     "output_type": "stream",
     "text": [
      "Core loss 240\n",
      "equivalent resistance 0.5\n",
      "Primary current 35\n"
     ]
    },
    {
     "name": "stdout",
     "output_type": "stream",
     "text": [
      "62.59686371487613\n"
     ]
    }
   ],
   "source": [
    "import math\n",
    "loss = int(input(\"Core loss\"))\n",
    "R = float(input(\"equivalent resistance\"))\n",
    "Irat = int(input(\"Primary current\"))\n",
    "I = math.sqrt(loss/R)\n",
    "percent= (I/Irat)*100\n",
    "print(percent)"
   ]
  },
  {
   "cell_type": "markdown",
   "id": "59b30bcb-569f-4265-b056-a6839dfbee80",
   "metadata": {},
   "source": [
    "12) The full-load copper loss of a transformer is 1520 W,\n",
    "while the iron losses at full load are 900 W. At half-\n",
    "load, the copper loss will be"
   ]
  },
  {
   "cell_type": "code",
   "execution_count": 3,
   "id": "4e3d699b-94a8-40a3-8f65-766e387b7d17",
   "metadata": {},
   "outputs": [
    {
     "name": "stdout",
     "output_type": "stream",
     "text": [
      "full load copper loss 1520\n"
     ]
    },
    {
     "name": "stdout",
     "output_type": "stream",
     "text": [
      "380.0\n"
     ]
    }
   ],
   "source": [
    "copper = int(input(\"full load copper loss\"))\n",
    "Phalf = 0.25*copper\n",
    "print(Phalf)"
   ]
  },
  {
   "cell_type": "markdown",
   "id": "e08d1b93-0811-42dd-9786-a01795eef362",
   "metadata": {},
   "source": [
    "13) Three single-phase transformers are connected to form\n",
    "a delta-star three-phase transformer of voltage rating\n",
    "of 200 V/17 kV. The transformer supplies at 17 kV\n",
    "a balanced three phase load of 23 kW at 0.74 pf lag-\n",
    "ging to a nearby plant. Neglect the transformer losses.\n",
    "What will be the current in each phase winding on the\n",
    "primary side?"
   ]
  },
  {
   "cell_type": "code",
   "execution_count": 6,
   "id": "9e42b594-1eeb-4c2a-9e32-40327becab4d",
   "metadata": {},
   "outputs": [
    {
     "name": "stdout",
     "output_type": "stream",
     "text": [
      "power (in kw) 23\n",
      "secondary voltage 17\n",
      "voltage rating 200\n",
      "power factor 0.74\n"
     ]
    },
    {
     "name": "stdout",
     "output_type": "stream",
     "text": [
      "51.80484101914159\n"
     ]
    }
   ],
   "source": [
    "P = float(input(\"power (in kw)\")) * 1000\n",
    "V = float(input(\"secondary voltage\"))\n",
    "Vrat = float(input(\"voltage rating\"))\n",
    "phi = float(input(\"power factor\"))\n",
    "\n",
    "I = P / (1.732 * V * phi)\n",
    "Vsec_phase = V / 1.732\n",
    "a = Vrat / Vsec_phase\n",
    "Iprim_phase = I / a\n",
    "print(Iprim_phase)"
   ]
  },
  {
   "cell_type": "markdown",
   "id": "656ac898-d819-498d-b965-1c288cc1853e",
   "metadata": {},
   "source": [
    "14) The open-circuit test result gives 200 V, 75 A, 4 kW\n",
    "measured on the low-voltage side of a transformer. The\n",
    "transformer is rated as 100 kVA, 1000/200 V, 40 Hz\n",
    "and single-phase with 1000 turns on high-voltage side.\n",
    "The core loss component of no load current is approx-\n",
    "imately."
   ]
  },
  {
   "cell_type": "code",
   "execution_count": 2,
   "id": "3b7fc2ef-b1b3-462c-a3f6-ec646b64c72b",
   "metadata": {},
   "outputs": [
    {
     "name": "stdout",
     "output_type": "stream",
     "text": [
      "voltage 200\n",
      "power(in kw) 4\n"
     ]
    },
    {
     "name": "stdout",
     "output_type": "stream",
     "text": [
      "20.0\n"
     ]
    }
   ],
   "source": [
    "V = int(input(\"voltage\"))\n",
    "P = int(input(\"power(in kw)\"))\n",
    "Iloss = (P*1000)/V\n",
    "print(Iloss)"
   ]
  },
  {
   "cell_type": "markdown",
   "id": "1bbcde8d-a541-4779-948a-5e452971d1e6",
   "metadata": {},
   "source": [
    "15) A single-phase auto-transformer has a voltage ratio\n",
    "250/100 V and supplies a load of 15 kVA at 100 V.\n",
    "Assuming an ideal transformer, determine the current\n",
    "I3 in the common section of the winding as shown in\n",
    "the circuit diagram."
   ]
  },
  {
   "cell_type": "code",
   "execution_count": 4,
   "id": "127965aa-ab92-4bc2-a006-53e7adf9b6e5",
   "metadata": {},
   "outputs": [
    {
     "name": "stdout",
     "output_type": "stream",
     "text": [
      "primary voltage 250\n",
      "secondary voltage 100\n",
      "load (in kva) 15\n"
     ]
    },
    {
     "name": "stdout",
     "output_type": "stream",
     "text": [
      "90.0\n"
     ]
    }
   ],
   "source": [
    "Vp = int(input(\"primary voltage\"))\n",
    "Vs = int(input(\"secondary voltage\"))\n",
    "P = int(input(\"load (in kva)\"))\n",
    "Iload = (P*1000)/Vs\n",
    "I1 = Vs*Iload/Vp\n",
    "I3 = Iload-I1\n",
    "print(I3)"
   ]
  },
  {
   "cell_type": "markdown",
   "id": "0cefc18e-5ac5-41e6-9a36-72e72ba01cfa",
   "metadata": {},
   "source": [
    "16) Calculate the regulation of the transformer in which\n",
    "ohmic loss is 1% of the output and the reactance drop\n",
    "is 5% of the voltage when the power factor is 0.8 lag"
   ]
  },
  {
   "cell_type": "code",
   "execution_count": 7,
   "id": "97cbabcd-bbd3-4a25-bff5-2147052f2d1a",
   "metadata": {},
   "outputs": [
    {
     "name": "stdout",
     "output_type": "stream",
     "text": [
      "ohmic loss 1\n",
      "reactance drop 5\n",
      "power factor 0.8\n"
     ]
    },
    {
     "name": "stdout",
     "output_type": "stream",
     "text": [
      "3.799999999999999\n"
     ]
    }
   ],
   "source": [
    "import math\n",
    "ol = int(input(\"ohmic loss\"))\n",
    "rd = int(input(\"reactance drop\"))\n",
    "pf = float(input(\"power factor\"))\n",
    "sin = math.sqrt(1-pf**2)\n",
    "reg = ol*pf+rd*sin\n",
    "\n",
    "print(reg)"
   ]
  },
  {
   "cell_type": "markdown",
   "id": "356f305e-d33f-41f8-8f3f-3a5c3e965aa5",
   "metadata": {},
   "source": [
    "A 29 KVA transformer has 420 turns in the primary\n",
    "and 40 turns in the secondary. The primary is con-\n",
    "nected to 2900 V, 60Hz supply. Neglect losses, leak-\n",
    "age drops and no load current in the primary.\\\n",
    "17. Find the full load secondary current?\\\n",
    "18. What is the emf induced in the secondary?\\\n",
    "19. What is maximum flux in the core?"
   ]
  },
  {
   "cell_type": "code",
   "execution_count": 11,
   "id": "b0c3318d-2f0f-4fd7-af34-e56fc982367a",
   "metadata": {},
   "outputs": [
    {
     "name": "stdout",
     "output_type": "stream",
     "text": [
      "transformer rating (in kva) 29\n",
      "primary turms 420\n",
      "secondary turns 40\n",
      "primary voltage 2900\n",
      "frequency 60\n"
     ]
    },
    {
     "name": "stdout",
     "output_type": "stream",
     "text": [
      "105.0  A\n",
      "276.1904761904762  V\n",
      "0.025918775918775915  Wb\n"
     ]
    }
   ],
   "source": [
    "S = int(input(\"transformer rating (in kva)\"))\n",
    "N1 = int(input(\"primary turms\"))\n",
    "N2 = int(input(\"secondary turns\"))\n",
    "V1 = int(input(\"primary voltage\"))\n",
    "f = int(input(\"frequency\"))\n",
    "V2 = V1*N2/N1\n",
    "I2 = (S*1000)/V2\n",
    "flux = V1/(4.44*f*N1)\n",
    "print(I2,\" A\")\n",
    "print(V2,\" V\")\n",
    "print(flux,\" Wb\")"
   ]
  },
  {
   "cell_type": "markdown",
   "id": "46714987-f329-43b4-bc0f-946e2aab2cb0",
   "metadata": {},
   "source": [
    "### LAST 10 QUESTIONS"
   ]
  },
  {
   "cell_type": "markdown",
   "id": "4fef9366",
   "metadata": {},
   "source": [
    "#### Estimate OC and SC Test Readings"
   ]
  },
  {
   "cell_type": "code",
   "execution_count": null,
   "id": "3632c017-919c-4799-ac63-5cbc97d17983",
   "metadata": {},
   "outputs": [],
   "source": [
    "eostr_trans_rate = float(input(\"tansformer's rating (kVA) :\"))\n",
    "eostr_HV = float(input(\"HV (HV/LV) :\"))\n",
    "eostr_LV = float(input(\"LV (HV/LV) :\"))\n",
    "eostr_freq = float(input(\"supply frequence (Hz) :\"))\n",
    "eostr_eqre = float(input(\"Equvivalent resistance :\"))\n",
    "eostr_eqra = float(input(\"Equvivalent reactance :\"))\n",
    "eostr_clr = float(input(\"Core loss resistance :\"))\n",
    "eostr_mr = float(input(\"Magnetization reactance :\"))"
   ]
  },
  {
   "cell_type": "markdown",
   "id": "ea520e20-e8f1-4139-a0d6-21725e1c02c1",
   "metadata": {},
   "source": [
    "As the general practice and from practical convenience point of view, which side of the transformer should the meters be connected for performing the OC test and SC Test, respectively?"
   ]
  },
  {
   "cell_type": "code",
   "execution_count": null,
   "id": "32b89f07-ccfe-46ce-8a13-6c97da7b3c0c",
   "metadata": {},
   "outputs": [],
   "source": [
    "print(\"LV side, HV side\")"
   ]
  },
  {
   "cell_type": "markdown",
   "id": "89a98b03-2477-445b-9f14-a3c56f4ff0ba",
   "metadata": {},
   "source": [
    "What is the input power taken from the supply during the OC test?"
   ]
  },
  {
   "cell_type": "code",
   "execution_count": null,
   "id": "a949eba5-868d-4d01-a264-ac51eb316cba",
   "metadata": {},
   "outputs": [],
   "source": [
    "eostr_Pi = eostr_LV**2/eostr_clr\n",
    "print(f\"{eostr_Pi:.1f} W\")"
   ]
  },
  {
   "cell_type": "markdown",
   "id": "855110af-a489-4427-973d-71a12f9559b3",
   "metadata": {},
   "source": [
    "What is the input power taken from the supply during the SC test?"
   ]
  },
  {
   "cell_type": "code",
   "execution_count": null,
   "id": "73a5a0d4-ab59-400b-898f-818c39b71140",
   "metadata": {},
   "outputs": [],
   "source": [
    "eostr_Ir = eostr_trans_rate*1000/eostr_HV\n",
    "eostr_Pcu = eostr_Ir**2 * eostr_eqre\n",
    "print(f\"{eostr_Pcu:.1f} W\")"
   ]
  },
  {
   "cell_type": "markdown",
   "id": "530126fa-9cea-4409-ab19-6d4057ba1502",
   "metadata": {},
   "source": [
    "What is supply voltage to be applied during the SC test?"
   ]
  },
  {
   "cell_type": "code",
   "execution_count": null,
   "id": "9863aba2-5123-470b-b1ec-6e6a47ff5d4b",
   "metadata": {},
   "outputs": [],
   "source": [
    "eostr_Zeq = math.sqrt(eostr_eqre**2 + eostr_eqra**2)\n",
    "eostr_Vsc = eostr_Ir*eostr_Zeq\n",
    "print(f\"{eostr_Vsc:.1f} V\")"
   ]
  },
  {
   "cell_type": "markdown",
   "id": "5c0fd751-3f06-4b87-a813-a67980178793",
   "metadata": {},
   "source": [
    "What is current taken from the supply during the OC test?"
   ]
  },
  {
   "cell_type": "code",
   "execution_count": null,
   "id": "6097560d-dee5-4991-b8ba-f4bf45f54c21",
   "metadata": {},
   "outputs": [],
   "source": [
    "eostr_clc = eostr_LV/eostr_clr\n",
    "eostr_mc = eostr_LV/eostr_mr\n",
    "eostr_tnlc = math.sqrt(eostr_clc**2 + eostr_mc**2)\n",
    "print(f\"{eostr_tnlc:.3f} A\")"
   ]
  },
  {
   "cell_type": "markdown",
   "id": "1ee7d30e-39f3-408f-b49a-f170c6a01276",
   "metadata": {},
   "source": [
    "#### OC and SC Test on Transformer"
   ]
  },
  {
   "cell_type": "code",
   "execution_count": null,
   "id": "48b6e9f8-8977-4cb9-820f-5267218132df",
   "metadata": {},
   "outputs": [],
   "source": [
    "ostt_LV = float(input(\"LV (LV/HV) :\"))\n",
    "ostt_HV = float(input(\"HV (LV/HV) :\"))\n",
    "ostt_freq = float(input(\"supply frequence (Hz) :\"))\n",
    "ostt_ocp = float(input(\"measured power for OC:\"))\n",
    "ostt_occ = float(input(\"measured current for OC:\"))\n",
    "ostt_ocv = float(input(\"measured volatge for OC:\"))\n",
    "ostt_scp = float(input(\"measured power for SC:\"))\n",
    "ostt_scc = float(input(\"measured current for SC:\"))\n",
    "ostt_scv = float(input(\"measured volatge for SC:\"))"
   ]
  },
  {
   "cell_type": "markdown",
   "id": "e4b16f04-bd6a-4613-83b0-5e5ecfbc2020",
   "metadata": {},
   "source": [
    "Determine $R_{01}$, the equivalent resistance of the transformer in Ω referred to the LV side."
   ]
  },
  {
   "cell_type": "code",
   "execution_count": null,
   "id": "c46e1841-b59b-40ec-a927-39dea3866fc2",
   "metadata": {},
   "outputs": [],
   "source": [
    "ostt_Z01 = ostt_scv/ostt_scc\n",
    "ostt_Rhv = ostt_scp/(ostt_scc**2)\n",
    "ostt_a = ostt_HV/ostt_LV\n",
    "ostt_rlv = ostt_Rhv/(ostt_a**2)\n",
    "print(f\"{ostt_rlv:.3f}\")"
   ]
  },
  {
   "cell_type": "markdown",
   "id": "d631b427-d904-496a-8fdb-d131a76e7ae7",
   "metadata": {},
   "source": [
    "Determine $X_0$, the magnetizing reactance of the transformer referring to the LV side"
   ]
  },
  {
   "cell_type": "code",
   "execution_count": null,
   "id": "3e8260da-32da-4fb8-bb2b-a569f434f48b",
   "metadata": {},
   "outputs": [],
   "source": [
    "ostt_clc = ostt_ocp/ostt_ocv\n",
    "ostt_mc = math.sqrt(ostt_occ**2 - ostt_clc**2)\n",
    "ostt_X0 = ostt_ocv/ostt_mc\n",
    "print(f\"{ostt_X0:.3f} ohm\") "
   ]
  },
  {
   "cell_type": "markdown",
   "id": "044b54d8-5338-479e-a9fa-6c003338d92b",
   "metadata": {},
   "source": [
    "Determine $R_0$, the resistance representing the core losses of the transformer referring to the LV side."
   ]
  },
  {
   "cell_type": "code",
   "execution_count": null,
   "id": "c6e902c5-a0a2-445a-9e1e-e6969770d7d7",
   "metadata": {},
   "outputs": [],
   "source": [
    "ostt_R0 = ostt_ocv**2/ostt_ocp\n",
    "print(f\"{ostt_R0:.3f} ohm\")"
   ]
  },
  {
   "cell_type": "markdown",
   "id": "a04988b3-9567-4c18-aa53-92e1ed1963c0",
   "metadata": {},
   "source": [
    "Determine $X_{02}$, equivalent reactance of the transformer in Ω referred to the HV side."
   ]
  },
  {
   "cell_type": "code",
   "execution_count": null,
   "id": "e3cf9a9f-a23c-42c6-bef4-5fa275a69bca",
   "metadata": {},
   "outputs": [],
   "source": [
    "ostt_Z01 = ostt_scv/ostt_scc\n",
    "ostt_R01 = ostt_scp/ostt_scc**2 \n",
    "ostt_X02 = math.sqrt(ostt_Z01**2 - ostt_R01**2)\n",
    "print(f\"{ostt_X02:.3f} ohm\")"
   ]
  },
  {
   "cell_type": "markdown",
   "id": "1feaa4f1",
   "metadata": {},
   "source": [
    "30. An ideal transformer has a turns ratio of 14:135. The\n",
    "following connections are made:\n",
    "Primary side: Voltage of 180 V is applied\n",
    "Secondary side: a resistance of 9 kΩ is connected.\n",
    "What is the input power taken by the primary side?"
   ]
  },
  {
   "cell_type": "code",
   "execution_count": 1,
   "id": "c2c70199",
   "metadata": {},
   "outputs": [
    {
     "name": "stdout",
     "output_type": "stream",
     "text": [
      "334.7448979591836\n"
     ]
    }
   ],
   "source": [
    "Np = int(input(\"primary turns\"))\n",
    "Ns = int(input(\"secondary turns\"))\n",
    "Vp = int(input(\"primary voltage\"))\n",
    "Rs = int(input(\"secondary resistance (in kΩ)\"))\n",
    "Vs = Vp*(Ns/Np)\n",
    "Is = Vs/(Rs*1000)\n",
    "P = Vs*Is\n",
    "print(P)"
   ]
  },
  {
   "cell_type": "code",
   "execution_count": null,
   "id": "80a09a3a",
   "metadata": {},
   "outputs": [],
   "source": []
  }
 ],
 "metadata": {
  "kernelspec": {
   "display_name": "Python 3",
   "language": "python",
   "name": "python3"
  },
  "language_info": {
   "codemirror_mode": {
    "name": "ipython",
    "version": 3
   },
   "file_extension": ".py",
   "mimetype": "text/x-python",
   "name": "python",
   "nbconvert_exporter": "python",
   "pygments_lexer": "ipython3",
   "version": "3.11.4"
  }
 },
 "nbformat": 4,
 "nbformat_minor": 5
}
