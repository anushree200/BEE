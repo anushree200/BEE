{
 "cells": [
  {
   "cell_type": "markdown",
   "id": "beff6bce-8329-4923-9967-b6cfb8a20702",
   "metadata": {},
   "source": [
    "1) A 3-phase, 200 V, 45 Hz, 8 pole induction motor runs\n",
    "at 634 rpm at full load. Calculate the full load slip of\n",
    "the motor."
   ]
  },
  {
   "cell_type": "code",
   "execution_count": 1,
   "id": "440cc343-c245-4cc9-9917-aca627be463b",
   "metadata": {},
   "outputs": [
    {
     "name": "stdin",
     "output_type": "stream",
     "text": [
      "Rotor speed 634\n",
      "Frequency 45\n",
      "poles 8\n"
     ]
    },
    {
     "name": "stdout",
     "output_type": "stream",
     "text": [
      "0.06074074074074074\n"
     ]
    }
   ],
   "source": [
    "Nr = int(input(\"Rotor speed\"))\n",
    "f = int(input(\"Frequency\"))\n",
    "p = int(input(\"poles\"))\n",
    "Ns = (120*f)/p\n",
    "S = (Ns-Nr)/Ns\n",
    "print(S)"
   ]
  },
  {
   "cell_type": "markdown",
   "id": "d09c3c9a-58fc-4477-a7c2-2c388414c7a6",
   "metadata": {},
   "source": [
    "2) A 3-phase, 210 V, 45 Hz, 8 pole induction motor has a\n",
    "full load slip of 0.06. Calculate the rotor speed of the\n",
    "motor in rpm."
   ]
  },
  {
   "cell_type": "code",
   "execution_count": 3,
   "id": "c051f2e4-05bc-4c6e-833e-26e962f75c14",
   "metadata": {},
   "outputs": [
    {
     "name": "stdin",
     "output_type": "stream",
     "text": [
      "frequency 45\n",
      "poles 8\n",
      "slip 0.06\n"
     ]
    },
    {
     "name": "stdout",
     "output_type": "stream",
     "text": [
      "634.5\n"
     ]
    }
   ],
   "source": [
    "f = int(input(\"frequency\"))\n",
    "p = int(input(\"poles\"))\n",
    "S = float(input(\"slip\"))\n",
    "Ns = (120*f)/p\n",
    "Nr = Ns * (1-S)\n",
    "print(Nr)"
   ]
  },
  {
   "cell_type": "markdown",
   "id": "5c8d0688-8858-461f-b875-d42476ce2013",
   "metadata": {},
   "source": [
    "3) A 3-phase, 240 kW, 60 Hz, 4 Pole induction motor has\n",
    "a rotor impedance (0.026 + j0.06) ohm at standstill.\n",
    "Calculate the rotor resistance in Ω to be added to get\n",
    "maximum starting torque."
   ]
  },
  {
   "cell_type": "code",
   "execution_count": 4,
   "id": "40c16aab-05c8-4eb7-9589-a5d00f3947a5",
   "metadata": {},
   "outputs": [
    {
     "name": "stdin",
     "output_type": "stream",
     "text": [
      "Rotor resistance(a+bj) = a 0.026\n",
      "Rotor reactance(a+bj) = b 0.06\n"
     ]
    },
    {
     "name": "stdout",
     "output_type": "stream",
     "text": [
      "0.034\n"
     ]
    }
   ],
   "source": [
    "R2 = float(input(\"Rotor resistance(a+bj) = a\"))\n",
    "X2 = float(input(\"Rotor reactance(a+bj) = b\"))\n",
    "Radd = X2-R2\n",
    "print(Radd)"
   ]
  },
  {
   "cell_type": "markdown",
   "id": "9a3fde55-dc76-4836-a30c-aa9ccdafba88",
   "metadata": {},
   "source": [
    "4) A 3-phase, 210 V, 45 Hz induction motor runs has a\n",
    "synchronous speed of 900.0 rpm. Calculate number of\n",
    "poles of the motor."
   ]
  },
  {
   "cell_type": "code",
   "execution_count": 5,
   "id": "13fb645b-3bce-4546-ad69-37df6fec8f04",
   "metadata": {},
   "outputs": [
    {
     "name": "stdin",
     "output_type": "stream",
     "text": [
      "frequency 45\n",
      "Synchronous speed 900\n"
     ]
    },
    {
     "name": "stdout",
     "output_type": "stream",
     "text": [
      "6\n"
     ]
    }
   ],
   "source": [
    "f = int(input(\"frequency\"))\n",
    "Ns = int(input(\"Synchronous speed\"))\n",
    "\n",
    "P = int((120*f)/Ns)\n",
    "print(P)"
   ]
  },
  {
   "cell_type": "markdown",
   "id": "9491ad93-7d73-4760-9eca-cbe1dcc06953",
   "metadata": {},
   "source": [
    "5) A 746 kW, 3 phase, 40 Hz, 6 pole induction motor has\n",
    "rotor resistance and reactance at stand still of 0.07 Ω\n",
    "and 0.33 Ω per phase. The full load torque is obtained\n",
    "at 752.0. Find the ratio of maximum torque to full\n",
    "load torque."
   ]
  },
  {
   "cell_type": "code",
   "execution_count": 6,
   "id": "e9c9f5c1-5cd4-4542-a504-a2ed46d4f712",
   "metadata": {},
   "outputs": [
    {
     "name": "stdin",
     "output_type": "stream",
     "text": [
      "frequency 40\n",
      "poles 6\n",
      "Rotor speed 752.0\n",
      "Rotor resistance(a+bj) = a 0.07\n",
      "Rotor reactance(a+bj) = b 0.33\n"
     ]
    },
    {
     "name": "stdout",
     "output_type": "stream",
     "text": [
      "1.9091053391053392\n"
     ]
    }
   ],
   "source": [
    "f = int(input(\"frequency\"))\n",
    "p = int(input(\"poles\"))\n",
    "Nr = float(input(\"Rotor speed\"))\n",
    "R2 = float(input(\"Rotor resistance(a+bj) = a\"))\n",
    "X2 = float(input(\"Rotor reactance(a+bj) = b\"))\n",
    "\n",
    "Ns = (120*f)/p\n",
    "S_full = (Ns-Nr)/Ns\n",
    "S_max = R2/X2\n",
    "ratio = (S_max**2 + S_full**2)/(2*S_max*S_full)\n",
    "print(ratio)"
   ]
  },
  {
   "cell_type": "markdown",
   "id": "9ac248d2-52f5-4a7b-8ad5-96f5868773f7",
   "metadata": {},
   "source": [
    "6) A 3-phase, 8 pole, 230V, 50 Hz induction motor has a\n",
    "full load slip of 11 %. Calculate the frequency of emf\n",
    "induced in the rotor at full load in Hz."
   ]
  },
  {
   "cell_type": "code",
   "execution_count": 7,
   "id": "fcec4cc2-bbdc-46ba-85ef-9bdec1395263",
   "metadata": {},
   "outputs": [
    {
     "name": "stdin",
     "output_type": "stream",
     "text": [
      "frequency 50\n",
      "slip(in%) 11\n"
     ]
    },
    {
     "name": "stdout",
     "output_type": "stream",
     "text": [
      "5.5\n"
     ]
    }
   ],
   "source": [
    "f = int(input(\"frequency\"))\n",
    "S = int(input(\"slip(in%)\"))\n",
    "\n",
    "fr = (S/100)*f\n",
    "print(fr)"
   ]
  },
  {
   "cell_type": "markdown",
   "id": "d47a4fe7-1ce8-4c17-addf-8ebb078918e3",
   "metadata": {},
   "source": [
    "7) A 3-phase induction motor having a 4pole, 45 Hz sup-\n",
    "ply. The rotor resistance and standstill reactance are\n",
    "0.07 ohm and 0.31 ohm per phase. The speed of the\n",
    "rotor at full load is 1269 rpm. Find the ratio of the\n",
    "starting torque to the full load torque."
   ]
  },
  {
   "cell_type": "code",
   "execution_count": 8,
   "id": "9359d5cf-d923-4f64-8548-cee3a05877c4",
   "metadata": {},
   "outputs": [
    {
     "name": "stdin",
     "output_type": "stream",
     "text": [
      "frequency 45\n",
      "poles 4\n",
      "rotor speed at full load 1269\n",
      "Rotor resistance 0.07\n",
      "standstill reactance 0.31\n"
     ]
    },
    {
     "name": "stdout",
     "output_type": "stream",
     "text": [
      "0.8656699669966997\n"
     ]
    }
   ],
   "source": [
    "f = int(input(\"frequency\"))\n",
    "p = int(input(\"poles\"))\n",
    "Nr = int(input(\"rotor speed at full load\"))\n",
    "R2 = float(input(\"Rotor resistance\"))\n",
    "X2 = float(input(\"standstill reactance\"))\n",
    "Ns = (120*f)/p\n",
    "S = (Ns-Nr)/Ns\n",
    "ratio = (R2**2 + (S*X2)**2)/(S*(R2**2+X2**2))\n",
    "print(ratio)"
   ]
  },
  {
   "cell_type": "markdown",
   "id": "e202f76d-4158-4a65-aa57-b56d7b49d986",
   "metadata": {},
   "source": [
    "8) A 3 φ induction motor is wound for 6 poles and is sup-\n",
    "plied from 60 Hz system. Calculate the synchronous\n",
    "speed in rpm."
   ]
  },
  {
   "cell_type": "code",
   "execution_count": 9,
   "id": "867b5a27-6f4b-4b96-936b-f84121d802e6",
   "metadata": {},
   "outputs": [
    {
     "name": "stdin",
     "output_type": "stream",
     "text": [
      "frequency 60\n",
      "poles 6\n"
     ]
    },
    {
     "name": "stdout",
     "output_type": "stream",
     "text": [
      "1200.0\n"
     ]
    }
   ],
   "source": [
    "f = int(input(\"frequency\"))\n",
    "P = int(input(\"poles\"))\n",
    "Ns = (120*f)/P\n",
    "print(Ns)"
   ]
  },
  {
   "cell_type": "markdown",
   "id": "d3e006fd-c255-400b-8d3e-bdf844541d3d",
   "metadata": {},
   "source": [
    "9) In a 3-phase, 65 Hz, 6 Pole induction motor, the rotor\n",
    "electromotive force is observed to make 2.60 complete\n",
    "alterations per second. Find the ratio of rotor copper\n",
    "loss to the mechanical power developed in the rotor.\n",
    "Calculate upto 4 decimal places."
   ]
  },
  {
   "cell_type": "code",
   "execution_count": 10,
   "id": "f5a479e8-5a22-4068-92bf-270e75d21147",
   "metadata": {},
   "outputs": [
    {
     "name": "stdin",
     "output_type": "stream",
     "text": [
      "frequency 65\n",
      "rotor frequency 2.6\n"
     ]
    },
    {
     "name": "stdout",
     "output_type": "stream",
     "text": [
      "0.04166666666666667\n"
     ]
    }
   ],
   "source": [
    "f = int(input(\"frequency\"))\n",
    "fr = float(input(\"rotor frequency\"))\n",
    "S = fr/f\n",
    "ratio = S/(1-S)\n",
    "print(ratio)"
   ]
  },
  {
   "cell_type": "markdown",
   "id": "895e6510-5399-4e65-a951-b42e0b40a2e7",
   "metadata": {},
   "source": [
    "10) The power input to the rotor of a 3-phase, 50 Hz, 4 pole\n",
    "induction motor is 14.0 kW, the rotor copper losses are\n",
    "140.0 W per phase. Calculate the speed of rotor in\n",
    "rpm, ignoring the mechanical losses."
   ]
  },
  {
   "cell_type": "code",
   "execution_count": 14,
   "id": "fd24616d-758e-45e0-a3be-d5facb63e6d6",
   "metadata": {},
   "outputs": [
    {
     "name": "stdin",
     "output_type": "stream",
     "text": [
      "frequency 50\n",
      "poles 4\n",
      "power input to rotor 14\n",
      "Rotor copper losses 140\n"
     ]
    },
    {
     "name": "stdout",
     "output_type": "stream",
     "text": [
      "1455.0\n"
     ]
    }
   ],
   "source": [
    "f = int(input(\"frequency\"))\n",
    "P = int(input(\"poles\"))\n",
    "power = float(input(\"power input to rotor\"))\n",
    "P_perphase = int(input(\"Rotor copper losses\"))\n",
    "P_perphase = P_perphase/1000\n",
    "Pcu = 3*P_perphase\n",
    "#Pm = power-Pcu\n",
    "S = Pcu/power\n",
    "Ns = (120*f)/P\n",
    "Nr = Ns*(1-S)\n",
    "print(Nr)"
   ]
  },
  {
   "cell_type": "code",
   "execution_count": null,
   "id": "cdd2623b-758b-4d9b-91d0-8349ee166fa8",
   "metadata": {},
   "outputs": [],
   "source": []
  }
 ],
 "metadata": {
  "kernelspec": {
   "display_name": "Python 3 (ipykernel)",
   "language": "python",
   "name": "python3"
  },
  "language_info": {
   "codemirror_mode": {
    "name": "ipython",
    "version": 3
   },
   "file_extension": ".py",
   "mimetype": "text/x-python",
   "name": "python",
   "nbconvert_exporter": "python",
   "pygments_lexer": "ipython3",
   "version": "3.11.4"
  }
 },
 "nbformat": 4,
 "nbformat_minor": 5
}
